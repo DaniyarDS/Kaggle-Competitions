{
 "cells": [
  {
   "cell_type": "code",
   "execution_count": 186,
   "metadata": {
    "collapsed": true
   },
   "outputs": [],
   "source": [
    "import numpy as np\n",
    "import pandas as pd\n",
    "from catboost import Pool, CatBoostClassifier, cv, CatboostIpythonWidget\n",
    "from sklearn.model_selection import train_test_split\n",
    "from sklearn import metrics\n",
    "import matplotlib.pyplot as plt\n",
    "%matplotlib inline"
   ]
  },
  {
   "cell_type": "code",
   "execution_count": 187,
   "metadata": {
    "collapsed": true
   },
   "outputs": [],
   "source": [
    "X = pd.read_csv(\"train.csv\")\n",
    "y = X.pop(\"Survived\")"
   ]
  },
  {
   "cell_type": "code",
   "execution_count": 188,
   "metadata": {},
   "outputs": [
    {
     "data": {
      "text/plain": [
       "PassengerId      0\n",
       "Pclass           0\n",
       "Name             0\n",
       "Sex              0\n",
       "Age            177\n",
       "SibSp            0\n",
       "Parch            0\n",
       "Ticket           0\n",
       "Fare             0\n",
       "Cabin          687\n",
       "Embarked         2\n",
       "dtype: int64"
      ]
     },
     "execution_count": 188,
     "metadata": {},
     "output_type": "execute_result"
    }
   ],
   "source": [
    "X.isnull().sum()"
   ]
  },
  {
   "cell_type": "code",
   "execution_count": 189,
   "metadata": {
    "collapsed": true
   },
   "outputs": [],
   "source": [
    "X.Age.fillna(X.Age.mean(),inplace=True)"
   ]
  },
  {
   "cell_type": "code",
   "execution_count": 190,
   "metadata": {
    "collapsed": true
   },
   "outputs": [],
   "source": [
    "# Male replace to 1, Female replace to 0 \n",
    "def MF_to_num(x):\n",
    "    if x == 'male':\n",
    "        return 1\n",
    "    else:\n",
    "        return 0\n",
    "    \n",
    "# rewrite only with first letter or if it is NAN value rewrite to \"N\"   \n",
    "def cabin(x):\n",
    "    try:\n",
    "        return x[0]\n",
    "    except:\n",
    "        return \"N\"\n",
    "\n",
    "#apply out methods    \n",
    "X['Sex'] = X.Sex.apply(MF_to_num)\n",
    "#X['Cabin'] = X.Cabin.apply(cabin)"
   ]
  },
  {
   "cell_type": "code",
   "execution_count": 191,
   "metadata": {
    "collapsed": true
   },
   "outputs": [],
   "source": [
    "X.drop(['PassengerId','Name','Ticket','Cabin'], axis = 1, inplace=True)"
   ]
  },
  {
   "cell_type": "code",
   "execution_count": 192,
   "metadata": {
    "collapsed": true
   },
   "outputs": [],
   "source": [
    "vectors = ['Embarked']\n",
    "for feature in vectors:\n",
    "    X[feature].fillna(\"None\",inplace = True)\n",
    "    dummies = pd.get_dummies(X[feature],prefix=feature)\n",
    "    X = pd.concat([X,dummies],axis=1)\n",
    "    X.drop([feature],axis = 1,inplace = True)"
   ]
  },
  {
   "cell_type": "code",
   "execution_count": 209,
   "metadata": {
    "collapsed": true
   },
   "outputs": [],
   "source": [
    "X_train, X_test, y_train, y_test = train_test_split(X,y,test_size=0.2, random_state = 5)"
   ]
  },
  {
   "cell_type": "code",
   "execution_count": 194,
   "metadata": {},
   "outputs": [
    {
     "data": {
      "text/plain": [
       "0.82681564245810057"
      ]
     },
     "execution_count": 194,
     "metadata": {},
     "output_type": "execute_result"
    }
   ],
   "source": [
    "# Primitive model\n",
    "model = CatBoostClassifier()\n",
    "model.fit(X_train,y_train)\n",
    "model.score(X_test,y_test)"
   ]
  },
  {
   "cell_type": "code",
   "execution_count": 195,
   "metadata": {},
   "outputs": [
    {
     "name": "stdout",
     "output_type": "stream",
     "text": [
      "Trees 20\n",
      "Score 0.821229050279\n",
      "Trees 30\n",
      "Score 0.832402234637\n",
      "Trees 50\n",
      "Score 0.832402234637\n",
      "Trees 100\n",
      "Score 0.837988826816\n",
      "Trees 300\n",
      "Score 0.837988826816\n",
      "Trees 500\n",
      "Score 0.837988826816\n",
      "Trees 700\n",
      "Score 0.826815642458\n",
      "Trees 1000\n",
      "Score 0.815642458101\n",
      "Trees 1500\n",
      "Score 0.810055865922\n",
      "Trees 2000\n",
      "Score 0.810055865922\n",
      "Trees 2500\n",
      "Score 0.810055865922\n"
     ]
    },
    {
     "data": {
      "text/plain": [
       "<matplotlib.axes._subplots.AxesSubplot at 0x7f353c1b2400>"
      ]
     },
     "execution_count": 195,
     "metadata": {},
     "output_type": "execute_result"
    },
    {
     "data": {
      "image/png": "[encoded data removed]",
      "text/plain": [
       "<matplotlib.figure.Figure at 0x7f353ca59828>"
      ]
     },
     "metadata": {},
     "output_type": "display_data"
    }
   ],
   "source": [
    "iterators = [20,30,50,100,300,500,700,1000,1500,2000,2500]\n",
    "res = []\n",
    "for trees in iterators:\n",
    "    model = CatBoostClassifier(iterations = trees,\n",
    "                                random_seed=42)\n",
    "    model.fit(X_train,y_train)\n",
    "    print('Trees', trees)\n",
    "    print('Score',model.score(X_test,y_test))\n",
    "    res.append(model.score(X_test,y_test))\n",
    "pd.Series(res,iterators).plot()    "
   ]
  },
  {
   "cell_type": "code",
   "execution_count": 196,
   "metadata": {},
   "outputs": [
    {
     "name": "stdout",
     "output_type": "stream",
     "text": [
      "Steps 1\n",
      "Score 0.815642458101\n",
      "Steps 0.5\n",
      "Score 0.804469273743\n",
      "Steps 0.1\n",
      "Score 0.832402234637\n",
      "Steps 0.05\n",
      "Score 0.837988826816\n",
      "Steps 0.04\n",
      "Score 0.843575418994\n",
      "Steps 0.03\n",
      "Score 0.837988826816\n",
      "Steps 0.01\n",
      "Score 0.826815642458\n",
      "Steps 0.005\n",
      "Score 0.826815642458\n"
     ]
    },
    {
     "data": {
      "text/plain": [
       "<matplotlib.axes._subplots.AxesSubplot at 0x7f353c260860>"
      ]
     },
     "execution_count": 196,
     "metadata": {},
     "output_type": "execute_result"
    },
    {
     "data": {
      "image/png": "[encoded data removed]",
      "text/plain": [
       "<matplotlib.figure.Figure at 0x7f353c1fa5f8>"
      ]
     },
     "metadata": {},
     "output_type": "display_data"
    }
   ],
   "source": [
    "learning_rate = [1,0.5,0.1,0.05,0.04,0.03,0.01,0.005]\n",
    "res = []\n",
    "for steps in learning_rate:\n",
    "    model = CatBoostClassifier(iterations=100,learning_rate=steps,random_seed=42)\n",
    "    model.fit(X_train,y_train)\n",
    "    print(\"Steps\", steps)\n",
    "    print(\"Score\",model.score(X_test,y_test))\n",
    "    res.append(model.score(X_test,y_test))\n",
    "pd.Series(res,learning_rate).plot()    "
   ]
  },
  {
   "cell_type": "code",
   "execution_count": 197,
   "metadata": {},
   "outputs": [
    {
     "name": "stdout",
     "output_type": "stream",
     "text": [
      "Depth 1\n",
      "Score 0.793296089385\n",
      "Depth 2\n",
      "Score 0.837988826816\n",
      "Depth 3\n",
      "Score 0.837988826816\n",
      "Depth 4\n",
      "Score 0.837988826816\n",
      "Depth 5\n",
      "Score 0.843575418994\n",
      "Depth 6\n",
      "Score 0.843575418994\n",
      "Depth 7\n",
      "Score 0.837988826816\n",
      "Depth 8\n",
      "Score 0.837988826816\n",
      "Depth 9\n",
      "Score 0.832402234637\n",
      "Depth 10\n",
      "Score 0.826815642458\n",
      "Depth 11\n",
      "Score 0.843575418994\n"
     ]
    },
    {
     "data": {
      "text/plain": [
       "<matplotlib.axes._subplots.AxesSubplot at 0x7f353c14b668>"
      ]
     },
     "execution_count": 197,
     "metadata": {},
     "output_type": "execute_result"
    },
    {
     "data": {
      "image/png": "[encoded data removed]",
      "text/plain": [
       "<matplotlib.figure.Figure at 0x7f353c113c18>"
      ]
     },
     "metadata": {},
     "output_type": "display_data"
    }
   ],
   "source": [
    "depth = [1,2,3,4,5,6,7,8,9,10,11]\n",
    "res = []\n",
    "\n",
    "for d in depth:\n",
    "    model = CatBoostClassifier(iterations=100, learning_rate=0.04,depth = d,random_seed=42)\n",
    "    model.fit(X_train,y_train)\n",
    "    print(\"Depth\",d)\n",
    "    print(\"Score\",model.score(X_test,y_test))\n",
    "    res.append(model.score(X_test,y_test))\n",
    "pd.Series(res, depth).plot()    "
   ]
  },
  {
   "cell_type": "code",
   "execution_count": 198,
   "metadata": {},
   "outputs": [
    {
     "name": "stdout",
     "output_type": "stream",
     "text": [
      "Leaf Newton\n",
      "Score 0.843575418994\n",
      "Leaf Gradient\n",
      "Score 0.837988826816\n"
     ]
    },
    {
     "data": {
      "text/plain": [
       "<matplotlib.axes._subplots.AxesSubplot at 0x7f353ce7dc50>"
      ]
     },
     "execution_count": 198,
     "metadata": {},
     "output_type": "execute_result"
    },
    {
     "data": {
      "image/png": "[encoded data removed]",
      "text/plain": [
       "<matplotlib.figure.Figure at 0x7f353c0cceb8>"
      ]
     },
     "metadata": {},
     "output_type": "display_data"
    }
   ],
   "source": [
    "leaf_estimation = ['Newton','Gradient']\n",
    "res = []\n",
    "\n",
    "for leaf in leaf_estimation:\n",
    "    model = CatBoostClassifier(iterations=100, learning_rate=0.04,depth = 5, leaf_estimation_method=leaf,random_seed=42)\n",
    "    model.fit(X_train,y_train)\n",
    "    print(\"Leaf\",leaf)\n",
    "    print(\"Score\",model.score(X_test,y_test))\n",
    "    res.append(model.score(X_test,y_test))\n",
    "pd.Series(res, leaf_estimation).plot(kind='bar')    "
   ]
  },
  {
   "cell_type": "code",
   "execution_count": 199,
   "metadata": {},
   "outputs": [
    {
     "name": "stdout",
     "output_type": "stream",
     "text": [
      "Leaf 1\n",
      "Score 0.849162011173\n",
      "Leaf 2\n",
      "Score 0.837988826816\n",
      "Leaf 3\n",
      "Score 0.843575418994\n",
      "Leaf 4\n",
      "Score 0.837988826816\n",
      "Leaf 5\n",
      "Score 0.843575418994\n",
      "Leaf 6\n",
      "Score 0.832402234637\n",
      "Leaf 7\n",
      "Score 0.837988826816\n",
      "Leaf 8\n",
      "Score 0.837988826816\n",
      "Leaf 9\n",
      "Score 0.826815642458\n",
      "Leaf 10\n",
      "Score 0.832402234637\n"
     ]
    },
    {
     "data": {
      "text/plain": [
       "<matplotlib.axes._subplots.AxesSubplot at 0x7f353c00f240>"
      ]
     },
     "execution_count": 199,
     "metadata": {},
     "output_type": "execute_result"
    },
    {
     "data": {
      "image/png": "[encoded data removed]",
      "text/plain": [
       "<matplotlib.figure.Figure at 0x7f353c01b9e8>"
      ]
     },
     "metadata": {},
     "output_type": "display_data"
    }
   ],
   "source": [
    "l2_leaf_reg = [1,2,3,4,5,6,7,8,9,10]\n",
    "res = []\n",
    "\n",
    "for leaf_reg in l2_leaf_reg:\n",
    "    model = CatBoostClassifier(iterations=100, \n",
    "                               learning_rate=0.04,\n",
    "                               depth = 5, \n",
    "                               leaf_estimation_method='Newton',\n",
    "                               l2_leaf_reg = leaf_reg,\n",
    "                               random_seed=42)\n",
    "    model.fit(X_train,y_train)\n",
    "    print(\"Leaf\",leaf_reg)\n",
    "    print(\"Score\",model.score(X_test,y_test))\n",
    "    res.append(model.score(X_test,y_test))\n",
    "pd.Series(res, l2_leaf_reg).plot()    "
   ]
  },
  {
   "cell_type": "code",
   "execution_count": 228,
   "metadata": {},
   "outputs": [
    {
     "data": {
      "text/plain": [
       "<catboost.core.CatBoostClassifier at 0x7f353c02c4a8>"
      ]
     },
     "execution_count": 228,
     "metadata": {},
     "output_type": "execute_result"
    }
   ],
   "source": [
    "model = CatBoostClassifier(iterations=100, \n",
    "                               learning_rate=0.04,\n",
    "                               depth = 5, \n",
    "                               leaf_estimation_method='Gradient',\n",
    "                               l2_leaf_reg = 1,\n",
    "                               random_seed=42)\n",
    "model.fit(X_train,y_train)"
   ]
  },
  {
   "cell_type": "code",
   "execution_count": 229,
   "metadata": {},
   "outputs": [
    {
     "name": "stdout",
     "output_type": "stream",
     "text": [
      "0.837988826816\n",
      "             precision    recall  f1-score   support\n",
      "\n",
      "        0.0       0.94      0.83      0.88       126\n",
      "        1.0       0.68      0.87      0.76        53\n",
      "\n",
      "avg / total       0.86      0.84      0.84       179\n",
      "\n"
     ]
    }
   ],
   "source": [
    "predicted = model.predict(X_test)\n",
    "print(model.score(X_test,y_test))\n",
    "print(metrics.classification_report(predicted,y_test))"
   ]
  },
  {
   "cell_type": "markdown",
   "metadata": {
    "collapsed": true
   },
   "source": [
    "#### Final Training model"
   ]
  },
  {
   "cell_type": "code",
   "execution_count": 202,
   "metadata": {},
   "outputs": [
    {
     "data": {
      "text/plain": [
       "<catboost.core.CatBoostClassifier at 0x7f353bf33b00>"
      ]
     },
     "execution_count": 202,
     "metadata": {},
     "output_type": "execute_result"
    }
   ],
   "source": [
    "model.fit(X,y)"
   ]
  },
  {
   "cell_type": "code",
   "execution_count": 204,
   "metadata": {
    "collapsed": true
   },
   "outputs": [],
   "source": [
    "X_test = pd.read_csv(\"test.csv\")\n",
    "X_test['Age'].fillna(X_test['Age'].mean(), inplace = True)\n",
    "X_test['Fare'].fillna(X_test['Fare'].mean(), inplace = True)\n",
    "X_test.drop(['PassengerId','Name','Ticket','Cabin'], axis = 1, inplace=True)\n",
    "\n",
    "X_test['Sex'] = X_test.Sex.apply(MF_to_num)\n",
    "#X_test['Cabin'] = X_test.Cabin.apply(cabin)\n",
    "  \n",
    "for feature in vectors:\n",
    "    X_test[feature].fillna(\"None\", inplace = True)\n",
    "    dummies_test = pd.get_dummies(X_test[feature],prefix=feature)\n",
    "    X_test = pd.concat([X_test,dummies_test],axis = 1)\n",
    "    X_test.drop([feature],axis = 1,inplace = True)"
   ]
  },
  {
   "cell_type": "code",
   "execution_count": 205,
   "metadata": {
    "collapsed": true
   },
   "outputs": [],
   "source": [
    "result = model.predict(X_test)\n",
    "result = result.astype(int)"
   ]
  },
  {
   "cell_type": "code",
   "execution_count": 206,
   "metadata": {
    "collapsed": true
   },
   "outputs": [],
   "source": [
    "file = pd.DataFrame(result)\n",
    "file.to_csv('submission.csv', index=False, header=False)"
   ]
  },
  {
   "cell_type": "code",
   "execution_count": null,
   "metadata": {
    "collapsed": true
   },
   "outputs": [],
   "source": []
  }
 ],
 "metadata": {
  "kernelspec": {
   "display_name": "Python 3",
   "language": "python",
   "name": "python3"
  },
  "language_info": {
   "codemirror_mode": {
    "name": "ipython",
    "version": 3
   },
   "file_extension": ".py",
   "mimetype": "text/x-python",
   "name": "python",
   "nbconvert_exporter": "python",
   "pygments_lexer": "ipython3",
   "version": "3.6.1"
  }
 },
 "nbformat": 4,
 "nbformat_minor": 2
}
